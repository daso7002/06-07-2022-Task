{
 "cells": [
  {
   "cell_type": "code",
   "execution_count": 1,
   "id": "cec4d176",
   "metadata": {},
   "outputs": [
    {
     "name": "stdout",
     "output_type": "stream",
     "text": [
      "Hello World\n"
     ]
    }
   ],
   "source": [
    "# Print Hello world!\n",
    "\n",
    "str1 = 'Hello World'\n",
    "print(str1)"
   ]
  },
  {
   "cell_type": "code",
   "execution_count": 2,
   "id": "5452acdf",
   "metadata": {},
   "outputs": [
    {
     "name": "stdout",
     "output_type": "stream",
     "text": [
      "10 10.23 True Hello\n"
     ]
    }
   ],
   "source": [
    "# Declare the following variables:\n",
    "# Int, Float, Boolean, String & print its value.\n",
    "\n",
    "a = 10\n",
    "b = 10.23\n",
    "c = True\n",
    "d = 'Hello'\n",
    "\n",
    "print(a , b , c , d)"
   ]
  },
  {
   "cell_type": "code",
   "execution_count": 6,
   "id": "1eb5a9ad",
   "metadata": {},
   "outputs": [
    {
     "name": "stdout",
     "output_type": "stream",
     "text": [
      "Enter breadth of triangle12.8\n",
      "Enter height of triangle12.8\n",
      "81.92000000000002 is the area of the triangle\n"
     ]
    }
   ],
   "source": [
    "#  Program to calculate the Area Of Triangle:\n",
    "\n",
    "b = eval(input(\"Enter breadth of triangle\"))\n",
    "\n",
    "h = eval(input(\"Enter height of triangle\"))\n",
    "\n",
    "area = 0.5 * b * h\n",
    "\n",
    "print(f'{area} is the area of the triangle')"
   ]
  },
  {
   "cell_type": "code",
   "execution_count": 7,
   "id": "50882bbd",
   "metadata": {},
   "outputs": [
    {
     "name": "stdout",
     "output_type": "stream",
     "text": [
      "20 10\n"
     ]
    }
   ],
   "source": [
    "# Program to swap two variables:\n",
    "\n",
    "# Hints- Take a temporary variable and store in it. Suppose a = 10, b= 20. Swapping two variables means a = 20, b = 10\n",
    "\n",
    "a = 10\n",
    "\n",
    "b = 20\n",
    "\n",
    "temp = a\n",
    "a = b\n",
    "b = temp\n",
    "\n",
    "print(a, b)\n",
    "\n"
   ]
  },
  {
   "cell_type": "code",
   "execution_count": 11,
   "id": "0aa71c83",
   "metadata": {},
   "outputs": [
    {
     "name": "stdout",
     "output_type": "stream",
     "text": [
      "Enter a number: 2\n",
      "Number is positive\n"
     ]
    }
   ],
   "source": [
    "# Program is to check if a number is positive, negative \n",
    "# or 0 (Using If…elif…else).\n",
    "\n",
    "num = eval(input(\"Enter a number: \"))\n",
    "if num > 0:\n",
    "    print(\"Number is positive\")\n",
    "elif num < 0:\n",
    "     print(\"Number is negative\")\n",
    "else:\n",
    "     print(\"Number is zero\")"
   ]
  },
  {
   "cell_type": "code",
   "execution_count": 13,
   "id": "835613e9",
   "metadata": {},
   "outputs": [
    {
     "name": "stdout",
     "output_type": "stream",
     "text": [
      "Enter a number: 67\n",
      "67 is odd\n"
     ]
    }
   ],
   "source": [
    "# Program is to check if a number is Even or Odd:\n",
    "\n",
    "num = int(input(\"Enter a number: \"))\n",
    "\n",
    "if num % 2 == 0:\n",
    "    print(f'{num} is even')\n",
    "else:\n",
    "    print(f'{num} is odd')"
   ]
  },
  {
   "cell_type": "code",
   "execution_count": 16,
   "id": "328ddb62",
   "metadata": {},
   "outputs": [
    {
     "name": "stdout",
     "output_type": "stream",
     "text": [
      "1\n",
      "3\n",
      "5\n",
      "7\n",
      "9\n",
      "11\n",
      "13\n",
      "15\n",
      "17\n",
      "19\n",
      "21\n",
      "23\n",
      "25\n",
      "27\n",
      "29\n",
      "31\n",
      "33\n",
      "35\n",
      "37\n",
      "39\n"
     ]
    }
   ],
   "source": [
    "# Program to print Odd number within a given range:\n",
    "# First 20 odd numbers\n",
    "\n",
    "for i in range(1, 40, 2):\n",
    "    print(i)"
   ]
  },
  {
   "cell_type": "code",
   "execution_count": 32,
   "id": "e0bfe1b7",
   "metadata": {},
   "outputs": [
    {
     "name": "stdout",
     "output_type": "stream",
     "text": [
      "Enter a number: 5\n",
      "120\n"
     ]
    }
   ],
   "source": [
    "# Python program to find the factorial of a number:\n",
    "\n",
    "num = input(\"Enter a number: \")\n",
    "fact = 1\n",
    "if int(num) > 1:\n",
    "    for i in range(1,int(num)+1):\n",
    "        fact *= i\n",
    "        \n",
    "print(fact)\n"
   ]
  },
  {
   "cell_type": "code",
   "execution_count": 37,
   "id": "03635311",
   "metadata": {},
   "outputs": [
    {
     "name": "stdout",
     "output_type": "stream",
     "text": [
      "Enter an integer number: 12345\n",
      "54321\n"
     ]
    }
   ],
   "source": [
    "# Program to reverse a given number:\n",
    "\n",
    "num = int(input(\"Enter an integer number: \"))\n",
    "reverse_num = 0\n",
    "\n",
    "while (num!= 0):\n",
    "    \n",
    "    remainder = num % 10\n",
    "    reverse_num = (reverse_num * 10) + remainder\n",
    "    num = num//10\n",
    "    \n",
    "print(reverse_num)"
   ]
  },
  {
   "cell_type": "code",
   "execution_count": 40,
   "id": "91aeb1a6",
   "metadata": {},
   "outputs": [
    {
     "name": "stdout",
     "output_type": "stream",
     "text": [
      "Enter an integer number: 2\n",
      "3\n"
     ]
    }
   ],
   "source": [
    "# Program to find out the sum of Natural numbers\n",
    "\n",
    "num = int(input(\"Enter an integer number: \"))\n",
    "\n",
    "sum1 = (num*(num +1))/2\n",
    "print(int(sum1))\n",
    "\n"
   ]
  },
  {
   "cell_type": "code",
   "execution_count": 44,
   "id": "971315a9",
   "metadata": {},
   "outputs": [
    {
     "name": "stdout",
     "output_type": "stream",
     "text": [
      "Enter an integer number: 3\n",
      "6\n"
     ]
    }
   ],
   "source": [
    "# Program to find out the sum of Natural numbers\n",
    "\n",
    "num = int(input(\"Enter an integer number: \"))\n",
    "sum1 = 0\n",
    "\n",
    "for i in range(1,(num + 1)):\n",
    "    sum1 += i\n",
    "print(sum1)\n",
    "    "
   ]
  },
  {
   "cell_type": "code",
   "execution_count": null,
   "id": "3a257ae7",
   "metadata": {},
   "outputs": [],
   "source": []
  }
 ],
 "metadata": {
  "kernelspec": {
   "display_name": "Python 3 (ipykernel)",
   "language": "python",
   "name": "python3"
  },
  "language_info": {
   "codemirror_mode": {
    "name": "ipython",
    "version": 3
   },
   "file_extension": ".py",
   "mimetype": "text/x-python",
   "name": "python",
   "nbconvert_exporter": "python",
   "pygments_lexer": "ipython3",
   "version": "3.9.7"
  }
 },
 "nbformat": 4,
 "nbformat_minor": 5
}
